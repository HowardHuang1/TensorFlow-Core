{
  "nbformat": 4,
  "nbformat_minor": 0,
  "metadata": {
    "colab": {
      "name": "Basic Regression:  Predicting Fuel Efficiency.ipynb",
      "provenance": []
    },
    "kernelspec": {
      "name": "python3",
      "display_name": "Python 3"
    },
    "language_info": {
      "name": "python"
    }
  },
  "cells": [
    {
      "cell_type": "code",
      "metadata": {
        "id": "lk1vlR_aOxsG"
      },
      "source": [
        "import matplotlib.pyplot as plt\n",
        "import numpy as np\n",
        "import pandas as pd\n",
        "import seaborn as sns\n",
        "\n",
        "# Make numpy printouts easier to read\n",
        "np.set_printoptions(precision=3, suppress=True)"
      ],
      "execution_count": 6,
      "outputs": []
    },
    {
      "cell_type": "code",
      "metadata": {
        "id": "mDSvyTqSPK5e",
        "colab": {
          "base_uri": "https://localhost:8080/"
        },
        "outputId": "12960ec7-f742-40d3-f277-3b494a20e27f"
      },
      "source": [
        "import tensorflow as tf\n",
        "from tensorflow import keras\n",
        "from tensorflow.keras import layers\n",
        "from tensorflow.keras.layers.experimental import preprocessing\n",
        "print(tf.__version__)"
      ],
      "execution_count": 7,
      "outputs": [
        {
          "output_type": "stream",
          "text": [
            "2.5.0\n"
          ],
          "name": "stdout"
        }
      ]
    },
    {
      "cell_type": "code",
      "metadata": {
        "id": "EuW_QCy1PK70"
      },
      "source": [
        "# Download Auto MPG Dataset using pandas\n",
        "url = 'http://archive.ics.uci.edu/ml/machine-learning-databases/auto-mpg/auto-mpg.data'\n",
        "column_names = ['MPG', 'Cylinders', 'Displacement', 'Horsepower', 'Weight', 'Acceleration', 'Model Year', 'Origin']\n",
        "raw_dataset = pd.read_csv(url, names=column_names, na_values='?', comment='\\t', sep=' ', skipinitialspace=True)"
      ],
      "execution_count": 9,
      "outputs": []
    },
    {
      "cell_type": "code",
      "metadata": {
        "id": "PuXuX_4YPK-T",
        "colab": {
          "base_uri": "https://localhost:8080/",
          "height": 241
        },
        "outputId": "d7c6105d-fe3d-4ed4-978d-f23d63c83270"
      },
      "source": [
        "dataset = raw_dataset.copy()\n",
        "dataset.tail()"
      ],
      "execution_count": 10,
      "outputs": [
        {
          "output_type": "execute_result",
          "data": {
            "text/html": [
              "<div>\n",
              "<style scoped>\n",
              "    .dataframe tbody tr th:only-of-type {\n",
              "        vertical-align: middle;\n",
              "    }\n",
              "\n",
              "    .dataframe tbody tr th {\n",
              "        vertical-align: top;\n",
              "    }\n",
              "\n",
              "    .dataframe thead th {\n",
              "        text-align: right;\n",
              "    }\n",
              "</style>\n",
              "<table border=\"1\" class=\"dataframe\">\n",
              "  <thead>\n",
              "    <tr style=\"text-align: right;\">\n",
              "      <th></th>\n",
              "      <th>MPG</th>\n",
              "      <th>Cylinders</th>\n",
              "      <th>Displacement</th>\n",
              "      <th>Horsepower</th>\n",
              "      <th>Weight</th>\n",
              "      <th>Acceleration</th>\n",
              "      <th>Model Year</th>\n",
              "      <th>Origin</th>\n",
              "    </tr>\n",
              "  </thead>\n",
              "  <tbody>\n",
              "    <tr>\n",
              "      <th>393</th>\n",
              "      <td>27.0</td>\n",
              "      <td>4</td>\n",
              "      <td>140.0</td>\n",
              "      <td>86.0</td>\n",
              "      <td>2790.0</td>\n",
              "      <td>15.6</td>\n",
              "      <td>82</td>\n",
              "      <td>1</td>\n",
              "    </tr>\n",
              "    <tr>\n",
              "      <th>394</th>\n",
              "      <td>44.0</td>\n",
              "      <td>4</td>\n",
              "      <td>97.0</td>\n",
              "      <td>52.0</td>\n",
              "      <td>2130.0</td>\n",
              "      <td>24.6</td>\n",
              "      <td>82</td>\n",
              "      <td>2</td>\n",
              "    </tr>\n",
              "    <tr>\n",
              "      <th>395</th>\n",
              "      <td>32.0</td>\n",
              "      <td>4</td>\n",
              "      <td>135.0</td>\n",
              "      <td>84.0</td>\n",
              "      <td>2295.0</td>\n",
              "      <td>11.6</td>\n",
              "      <td>82</td>\n",
              "      <td>1</td>\n",
              "    </tr>\n",
              "    <tr>\n",
              "      <th>396</th>\n",
              "      <td>28.0</td>\n",
              "      <td>4</td>\n",
              "      <td>120.0</td>\n",
              "      <td>79.0</td>\n",
              "      <td>2625.0</td>\n",
              "      <td>18.6</td>\n",
              "      <td>82</td>\n",
              "      <td>1</td>\n",
              "    </tr>\n",
              "    <tr>\n",
              "      <th>397</th>\n",
              "      <td>31.0</td>\n",
              "      <td>4</td>\n",
              "      <td>119.0</td>\n",
              "      <td>82.0</td>\n",
              "      <td>2720.0</td>\n",
              "      <td>19.4</td>\n",
              "      <td>82</td>\n",
              "      <td>1</td>\n",
              "    </tr>\n",
              "  </tbody>\n",
              "</table>\n",
              "</div>"
            ],
            "text/plain": [
              "      MPG  Cylinders  Displacement  ...  Acceleration  Model Year  Origin\n",
              "393  27.0          4         140.0  ...          15.6          82       1\n",
              "394  44.0          4          97.0  ...          24.6          82       2\n",
              "395  32.0          4         135.0  ...          11.6          82       1\n",
              "396  28.0          4         120.0  ...          18.6          82       1\n",
              "397  31.0          4         119.0  ...          19.4          82       1\n",
              "\n",
              "[5 rows x 8 columns]"
            ]
          },
          "metadata": {
            "tags": []
          },
          "execution_count": 10
        }
      ]
    },
    {
      "cell_type": "code",
      "metadata": {
        "id": "5J4IpuTpPLAT",
        "colab": {
          "base_uri": "https://localhost:8080/"
        },
        "outputId": "f3a4167b-0b1e-47f0-925f-bf0cc9f72001"
      },
      "source": [
        "# print out the number of unknown values for each category in the dataset\n",
        "dataset.isna().sum()\n"
      ],
      "execution_count": 11,
      "outputs": [
        {
          "output_type": "execute_result",
          "data": {
            "text/plain": [
              "MPG             0\n",
              "Cylinders       0\n",
              "Displacement    0\n",
              "Horsepower      6\n",
              "Weight          0\n",
              "Acceleration    0\n",
              "Model Year      0\n",
              "Origin          0\n",
              "dtype: int64"
            ]
          },
          "metadata": {
            "tags": []
          },
          "execution_count": 11
        }
      ]
    },
    {
      "cell_type": "code",
      "metadata": {
        "id": "Uo-3InDyPLCr"
      },
      "source": [
        "# drop those rows with unknown values\n",
        "dataset = dataset.dropna()"
      ],
      "execution_count": 12,
      "outputs": []
    },
    {
      "cell_type": "code",
      "metadata": {
        "id": "Dck0oV28TlV8"
      },
      "source": [
        "# convert the \"Origin\" column from numeric to categorical with one-hot encoding\n",
        "dataset['Origin'] = dataset['Origin'].map({1: 'USA', 2: 'Europe', 3: 'Japan'})"
      ],
      "execution_count": 13,
      "outputs": []
    },
    {
      "cell_type": "code",
      "metadata": {
        "colab": {
          "base_uri": "https://localhost:8080/",
          "height": 241
        },
        "id": "MYDcnR2bTlYO",
        "outputId": "ea9dc193-02f8-41f8-a516-3de45b21818c"
      },
      "source": [
        "# convert with pd.get_dummies\n",
        "dataset = pd.get_dummies(dataset, columns=['Origin'], prefix='', prefix_sep='')\n",
        "dataset.tail()"
      ],
      "execution_count": 14,
      "outputs": [
        {
          "output_type": "execute_result",
          "data": {
            "text/html": [
              "<div>\n",
              "<style scoped>\n",
              "    .dataframe tbody tr th:only-of-type {\n",
              "        vertical-align: middle;\n",
              "    }\n",
              "\n",
              "    .dataframe tbody tr th {\n",
              "        vertical-align: top;\n",
              "    }\n",
              "\n",
              "    .dataframe thead th {\n",
              "        text-align: right;\n",
              "    }\n",
              "</style>\n",
              "<table border=\"1\" class=\"dataframe\">\n",
              "  <thead>\n",
              "    <tr style=\"text-align: right;\">\n",
              "      <th></th>\n",
              "      <th>MPG</th>\n",
              "      <th>Cylinders</th>\n",
              "      <th>Displacement</th>\n",
              "      <th>Horsepower</th>\n",
              "      <th>Weight</th>\n",
              "      <th>Acceleration</th>\n",
              "      <th>Model Year</th>\n",
              "      <th>Europe</th>\n",
              "      <th>Japan</th>\n",
              "      <th>USA</th>\n",
              "    </tr>\n",
              "  </thead>\n",
              "  <tbody>\n",
              "    <tr>\n",
              "      <th>393</th>\n",
              "      <td>27.0</td>\n",
              "      <td>4</td>\n",
              "      <td>140.0</td>\n",
              "      <td>86.0</td>\n",
              "      <td>2790.0</td>\n",
              "      <td>15.6</td>\n",
              "      <td>82</td>\n",
              "      <td>0</td>\n",
              "      <td>0</td>\n",
              "      <td>1</td>\n",
              "    </tr>\n",
              "    <tr>\n",
              "      <th>394</th>\n",
              "      <td>44.0</td>\n",
              "      <td>4</td>\n",
              "      <td>97.0</td>\n",
              "      <td>52.0</td>\n",
              "      <td>2130.0</td>\n",
              "      <td>24.6</td>\n",
              "      <td>82</td>\n",
              "      <td>1</td>\n",
              "      <td>0</td>\n",
              "      <td>0</td>\n",
              "    </tr>\n",
              "    <tr>\n",
              "      <th>395</th>\n",
              "      <td>32.0</td>\n",
              "      <td>4</td>\n",
              "      <td>135.0</td>\n",
              "      <td>84.0</td>\n",
              "      <td>2295.0</td>\n",
              "      <td>11.6</td>\n",
              "      <td>82</td>\n",
              "      <td>0</td>\n",
              "      <td>0</td>\n",
              "      <td>1</td>\n",
              "    </tr>\n",
              "    <tr>\n",
              "      <th>396</th>\n",
              "      <td>28.0</td>\n",
              "      <td>4</td>\n",
              "      <td>120.0</td>\n",
              "      <td>79.0</td>\n",
              "      <td>2625.0</td>\n",
              "      <td>18.6</td>\n",
              "      <td>82</td>\n",
              "      <td>0</td>\n",
              "      <td>0</td>\n",
              "      <td>1</td>\n",
              "    </tr>\n",
              "    <tr>\n",
              "      <th>397</th>\n",
              "      <td>31.0</td>\n",
              "      <td>4</td>\n",
              "      <td>119.0</td>\n",
              "      <td>82.0</td>\n",
              "      <td>2720.0</td>\n",
              "      <td>19.4</td>\n",
              "      <td>82</td>\n",
              "      <td>0</td>\n",
              "      <td>0</td>\n",
              "      <td>1</td>\n",
              "    </tr>\n",
              "  </tbody>\n",
              "</table>\n",
              "</div>"
            ],
            "text/plain": [
              "      MPG  Cylinders  Displacement  Horsepower  ...  Model Year  Europe  Japan  USA\n",
              "393  27.0          4         140.0        86.0  ...          82       0      0    1\n",
              "394  44.0          4          97.0        52.0  ...          82       1      0    0\n",
              "395  32.0          4         135.0        84.0  ...          82       0      0    1\n",
              "396  28.0          4         120.0        79.0  ...          82       0      0    1\n",
              "397  31.0          4         119.0        82.0  ...          82       0      0    1\n",
              "\n",
              "[5 rows x 10 columns]"
            ]
          },
          "metadata": {
            "tags": []
          },
          "execution_count": 14
        }
      ]
    },
    {
      "cell_type": "code",
      "metadata": {
        "id": "LKXgUX-CTlaY"
      },
      "source": [
        "#split data into train and test set\n",
        "train_dataset = dataset.sample(frac=0.8, random_state=0)\n",
        "test_dataset = dataset.drop(train_dataset.index)"
      ],
      "execution_count": 15,
      "outputs": []
    },
    {
      "cell_type": "code",
      "metadata": {
        "colab": {
          "base_uri": "https://localhost:8080/",
          "height": 663
        },
        "id": "P2s9F1WxTlch",
        "outputId": "87155683-c0fd-44a0-f848-c7db3ce727bd"
      },
      "source": [
        "#visualize data\n",
        "sns.pairplot(train_dataset[['MPG', 'Cylinders', 'Displacement', 'Weight']], diag_kind='kde')"
      ],
      "execution_count": 16,
      "outputs": [
        {
          "output_type": "execute_result",
          "data": {
            "text/plain": [
              "<seaborn.axisgrid.PairGrid at 0x7f8be5cda050>"
            ]
          },
          "metadata": {
            "tags": []
          },
          "execution_count": 16
        },
        {
          "output_type": "display_data",
          "data": {
            "image/png": "[encoded data removed]",
            "text/plain": [
              "<Figure size 720x720 with 20 Axes>"
            ]
          },
          "metadata": {
            "tags": [],
            "needs_background": "light"
          }
        }
      ]
    },
    {
      "cell_type": "code",
      "metadata": {
        "colab": {
          "base_uri": "https://localhost:8080/",
          "height": 379
        },
        "id": "JAcQikBJTleU",
        "outputId": "654786f7-c517-44a8-d2ed-cd9e32335de8"
      },
      "source": [
        "train_dataset.describe().transpose()"
      ],
      "execution_count": 17,
      "outputs": [
        {
          "output_type": "execute_result",
          "data": {
            "text/html": [
              "<div>\n",
              "<style scoped>\n",
              "    .dataframe tbody tr th:only-of-type {\n",
              "        vertical-align: middle;\n",
              "    }\n",
              "\n",
              "    .dataframe tbody tr th {\n",
              "        vertical-align: top;\n",
              "    }\n",
              "\n",
              "    .dataframe thead th {\n",
              "        text-align: right;\n",
              "    }\n",
              "</style>\n",
              "<table border=\"1\" class=\"dataframe\">\n",
              "  <thead>\n",
              "    <tr style=\"text-align: right;\">\n",
              "      <th></th>\n",
              "      <th>count</th>\n",
              "      <th>mean</th>\n",
              "      <th>std</th>\n",
              "      <th>min</th>\n",
              "      <th>25%</th>\n",
              "      <th>50%</th>\n",
              "      <th>75%</th>\n",
              "      <th>max</th>\n",
              "    </tr>\n",
              "  </thead>\n",
              "  <tbody>\n",
              "    <tr>\n",
              "      <th>MPG</th>\n",
              "      <td>314.0</td>\n",
              "      <td>23.310510</td>\n",
              "      <td>7.728652</td>\n",
              "      <td>10.0</td>\n",
              "      <td>17.00</td>\n",
              "      <td>22.0</td>\n",
              "      <td>28.95</td>\n",
              "      <td>46.6</td>\n",
              "    </tr>\n",
              "    <tr>\n",
              "      <th>Cylinders</th>\n",
              "      <td>314.0</td>\n",
              "      <td>5.477707</td>\n",
              "      <td>1.699788</td>\n",
              "      <td>3.0</td>\n",
              "      <td>4.00</td>\n",
              "      <td>4.0</td>\n",
              "      <td>8.00</td>\n",
              "      <td>8.0</td>\n",
              "    </tr>\n",
              "    <tr>\n",
              "      <th>Displacement</th>\n",
              "      <td>314.0</td>\n",
              "      <td>195.318471</td>\n",
              "      <td>104.331589</td>\n",
              "      <td>68.0</td>\n",
              "      <td>105.50</td>\n",
              "      <td>151.0</td>\n",
              "      <td>265.75</td>\n",
              "      <td>455.0</td>\n",
              "    </tr>\n",
              "    <tr>\n",
              "      <th>Horsepower</th>\n",
              "      <td>314.0</td>\n",
              "      <td>104.869427</td>\n",
              "      <td>38.096214</td>\n",
              "      <td>46.0</td>\n",
              "      <td>76.25</td>\n",
              "      <td>94.5</td>\n",
              "      <td>128.00</td>\n",
              "      <td>225.0</td>\n",
              "    </tr>\n",
              "    <tr>\n",
              "      <th>Weight</th>\n",
              "      <td>314.0</td>\n",
              "      <td>2990.251592</td>\n",
              "      <td>843.898596</td>\n",
              "      <td>1649.0</td>\n",
              "      <td>2256.50</td>\n",
              "      <td>2822.5</td>\n",
              "      <td>3608.00</td>\n",
              "      <td>5140.0</td>\n",
              "    </tr>\n",
              "    <tr>\n",
              "      <th>Acceleration</th>\n",
              "      <td>314.0</td>\n",
              "      <td>15.559236</td>\n",
              "      <td>2.789230</td>\n",
              "      <td>8.0</td>\n",
              "      <td>13.80</td>\n",
              "      <td>15.5</td>\n",
              "      <td>17.20</td>\n",
              "      <td>24.8</td>\n",
              "    </tr>\n",
              "    <tr>\n",
              "      <th>Model Year</th>\n",
              "      <td>314.0</td>\n",
              "      <td>75.898089</td>\n",
              "      <td>3.675642</td>\n",
              "      <td>70.0</td>\n",
              "      <td>73.00</td>\n",
              "      <td>76.0</td>\n",
              "      <td>79.00</td>\n",
              "      <td>82.0</td>\n",
              "    </tr>\n",
              "    <tr>\n",
              "      <th>Europe</th>\n",
              "      <td>314.0</td>\n",
              "      <td>0.178344</td>\n",
              "      <td>0.383413</td>\n",
              "      <td>0.0</td>\n",
              "      <td>0.00</td>\n",
              "      <td>0.0</td>\n",
              "      <td>0.00</td>\n",
              "      <td>1.0</td>\n",
              "    </tr>\n",
              "    <tr>\n",
              "      <th>Japan</th>\n",
              "      <td>314.0</td>\n",
              "      <td>0.197452</td>\n",
              "      <td>0.398712</td>\n",
              "      <td>0.0</td>\n",
              "      <td>0.00</td>\n",
              "      <td>0.0</td>\n",
              "      <td>0.00</td>\n",
              "      <td>1.0</td>\n",
              "    </tr>\n",
              "    <tr>\n",
              "      <th>USA</th>\n",
              "      <td>314.0</td>\n",
              "      <td>0.624204</td>\n",
              "      <td>0.485101</td>\n",
              "      <td>0.0</td>\n",
              "      <td>0.00</td>\n",
              "      <td>1.0</td>\n",
              "      <td>1.00</td>\n",
              "      <td>1.0</td>\n",
              "    </tr>\n",
              "  </tbody>\n",
              "</table>\n",
              "</div>"
            ],
            "text/plain": [
              "              count         mean         std  ...     50%      75%     max\n",
              "MPG           314.0    23.310510    7.728652  ...    22.0    28.95    46.6\n",
              "Cylinders     314.0     5.477707    1.699788  ...     4.0     8.00     8.0\n",
              "Displacement  314.0   195.318471  104.331589  ...   151.0   265.75   455.0\n",
              "Horsepower    314.0   104.869427   38.096214  ...    94.5   128.00   225.0\n",
              "Weight        314.0  2990.251592  843.898596  ...  2822.5  3608.00  5140.0\n",
              "Acceleration  314.0    15.559236    2.789230  ...    15.5    17.20    24.8\n",
              "Model Year    314.0    75.898089    3.675642  ...    76.0    79.00    82.0\n",
              "Europe        314.0     0.178344    0.383413  ...     0.0     0.00     1.0\n",
              "Japan         314.0     0.197452    0.398712  ...     0.0     0.00     1.0\n",
              "USA           314.0     0.624204    0.485101  ...     1.0     1.00     1.0\n",
              "\n",
              "[10 rows x 8 columns]"
            ]
          },
          "metadata": {
            "tags": []
          },
          "execution_count": 17
        }
      ]
    },
    {
      "cell_type": "code",
      "metadata": {
        "id": "PBWJ3zuxTlhJ"
      },
      "source": [
        "#split features from labels\n",
        "train_features = train_dataset.copy()\n",
        "test_features = test_dataset.copy()\n",
        "\n",
        "train_labels = train_features.pop('MPG')\n",
        "test_labels = test_features.pop('MPG')"
      ],
      "execution_count": 19,
      "outputs": []
    },
    {
      "cell_type": "code",
      "metadata": {
        "colab": {
          "base_uri": "https://localhost:8080/",
          "height": 359
        },
        "id": "s0JbWQ1LTljR",
        "outputId": "47a399c1-b73c-4ad1-80a9-ef7fb1759394"
      },
      "source": [
        "train_dataset.describe().transpose()[['mean','std']]"
      ],
      "execution_count": 20,
      "outputs": [
        {
          "output_type": "execute_result",
          "data": {
            "text/html": [
              "<div>\n",
              "<style scoped>\n",
              "    .dataframe tbody tr th:only-of-type {\n",
              "        vertical-align: middle;\n",
              "    }\n",
              "\n",
              "    .dataframe tbody tr th {\n",
              "        vertical-align: top;\n",
              "    }\n",
              "\n",
              "    .dataframe thead th {\n",
              "        text-align: right;\n",
              "    }\n",
              "</style>\n",
              "<table border=\"1\" class=\"dataframe\">\n",
              "  <thead>\n",
              "    <tr style=\"text-align: right;\">\n",
              "      <th></th>\n",
              "      <th>mean</th>\n",
              "      <th>std</th>\n",
              "    </tr>\n",
              "  </thead>\n",
              "  <tbody>\n",
              "    <tr>\n",
              "      <th>MPG</th>\n",
              "      <td>23.310510</td>\n",
              "      <td>7.728652</td>\n",
              "    </tr>\n",
              "    <tr>\n",
              "      <th>Cylinders</th>\n",
              "      <td>5.477707</td>\n",
              "      <td>1.699788</td>\n",
              "    </tr>\n",
              "    <tr>\n",
              "      <th>Displacement</th>\n",
              "      <td>195.318471</td>\n",
              "      <td>104.331589</td>\n",
              "    </tr>\n",
              "    <tr>\n",
              "      <th>Horsepower</th>\n",
              "      <td>104.869427</td>\n",
              "      <td>38.096214</td>\n",
              "    </tr>\n",
              "    <tr>\n",
              "      <th>Weight</th>\n",
              "      <td>2990.251592</td>\n",
              "      <td>843.898596</td>\n",
              "    </tr>\n",
              "    <tr>\n",
              "      <th>Acceleration</th>\n",
              "      <td>15.559236</td>\n",
              "      <td>2.789230</td>\n",
              "    </tr>\n",
              "    <tr>\n",
              "      <th>Model Year</th>\n",
              "      <td>75.898089</td>\n",
              "      <td>3.675642</td>\n",
              "    </tr>\n",
              "    <tr>\n",
              "      <th>Europe</th>\n",
              "      <td>0.178344</td>\n",
              "      <td>0.383413</td>\n",
              "    </tr>\n",
              "    <tr>\n",
              "      <th>Japan</th>\n",
              "      <td>0.197452</td>\n",
              "      <td>0.398712</td>\n",
              "    </tr>\n",
              "    <tr>\n",
              "      <th>USA</th>\n",
              "      <td>0.624204</td>\n",
              "      <td>0.485101</td>\n",
              "    </tr>\n",
              "  </tbody>\n",
              "</table>\n",
              "</div>"
            ],
            "text/plain": [
              "                     mean         std\n",
              "MPG             23.310510    7.728652\n",
              "Cylinders        5.477707    1.699788\n",
              "Displacement   195.318471  104.331589\n",
              "Horsepower     104.869427   38.096214\n",
              "Weight        2990.251592  843.898596\n",
              "Acceleration    15.559236    2.789230\n",
              "Model Year      75.898089    3.675642\n",
              "Europe           0.178344    0.383413\n",
              "Japan            0.197452    0.398712\n",
              "USA              0.624204    0.485101"
            ]
          },
          "metadata": {
            "tags": []
          },
          "execution_count": 20
        }
      ]
    },
    {
      "cell_type": "code",
      "metadata": {
        "id": "TT6FhuEOTllz"
      },
      "source": [
        "# create Normalization layer\n",
        "normalizer = preprocessing.Normalization(axis = -1)\n"
      ],
      "execution_count": 21,
      "outputs": []
    },
    {
      "cell_type": "code",
      "metadata": {
        "id": "t0410oYxTloQ"
      },
      "source": [
        "normalizer.adapt(np.array(train_features))"
      ],
      "execution_count": 22,
      "outputs": []
    },
    {
      "cell_type": "code",
      "metadata": {
        "colab": {
          "base_uri": "https://localhost:8080/"
        },
        "id": "_FSNjq25V8m8",
        "outputId": "6564ec24-6f59-4d68-8cf8-1fc6d636f62a"
      },
      "source": [
        "print(normalizer.mean.numpy())"
      ],
      "execution_count": 23,
      "outputs": [
        {
          "output_type": "stream",
          "text": [
            "[   5.478  195.318  104.869 2990.252   15.559   75.898    0.178    0.197\n",
            "    0.624]\n"
          ],
          "name": "stdout"
        }
      ]
    },
    {
      "cell_type": "code",
      "metadata": {
        "colab": {
          "base_uri": "https://localhost:8080/"
        },
        "id": "A7lT_5xHV8pM",
        "outputId": "bf77a4bf-5189-4cdc-ff4b-be98d9e8a35e"
      },
      "source": [
        "first = np.array(train_features[:1])\n",
        "\n",
        "with np.printoptions(precision=2, suppress=True):\n",
        "  print('First example:', first)\n",
        "  print()\n",
        "  print('Normalized:', normalizer(first).numpy())"
      ],
      "execution_count": 62,
      "outputs": [
        {
          "output_type": "stream",
          "text": [
            "First example: [[   4.    90.    75.  2125.    14.5   74.     0.     0.     1. ]]\n",
            "\n",
            "Normalized: [[-0.87 -1.01 -0.79 -1.03 -0.38 -0.52 -0.47 -0.5   0.78]]\n"
          ],
          "name": "stdout"
        }
      ]
    },
    {
      "cell_type": "code",
      "metadata": {
        "id": "uyHHH7fyV8rB"
      },
      "source": [
        "# Linear Regression to predict MPG from Horsepower (y=mx+b)\n",
        "\n",
        "# Create horsepower Normalization layer\n",
        "horsepower = np.array(train_features['Horsepower'])\n",
        "\n",
        "horsepower_normalizer = preprocessing.Normalization(input_shape=[1,], axis=None)\n",
        "horsepower_normalizer.adapt(horsepower)"
      ],
      "execution_count": 64,
      "outputs": []
    },
    {
      "cell_type": "code",
      "metadata": {
        "colab": {
          "base_uri": "https://localhost:8080/"
        },
        "id": "F3JEsQXWV8s-",
        "outputId": "12309363-686b-4204-ac16-a3d84d35d2aa"
      },
      "source": [
        "# use layers.Dense to produce 1 output after applying linear transformation\n",
        "horsepower_model = tf.keras.Sequential([horsepower_normalizer, layers.Dense(units=1)])\n",
        "horsepower_model.summary()"
      ],
      "execution_count": 65,
      "outputs": [
        {
          "output_type": "stream",
          "text": [
            "Model: \"sequential_3\"\n",
            "_________________________________________________________________\n",
            "Layer (type)                 Output Shape              Param #   \n",
            "=================================================================\n",
            "normalization_3 (Normalizati (None, 1)                 3         \n",
            "_________________________________________________________________\n",
            "dense_3 (Dense)              (None, 1)                 2         \n",
            "=================================================================\n",
            "Total params: 5\n",
            "Trainable params: 2\n",
            "Non-trainable params: 3\n",
            "_________________________________________________________________\n"
          ],
          "name": "stdout"
        }
      ]
    },
    {
      "cell_type": "code",
      "metadata": {
        "colab": {
          "base_uri": "https://localhost:8080/"
        },
        "id": "iV9tIIFXV8u2",
        "outputId": "40778d3e-d361-4bdf-b76d-45c80f84566a"
      },
      "source": [
        "#predict on first 10 horse-power values\n",
        "horsepower_model.predict(horsepower[:10])\n"
      ],
      "execution_count": 66,
      "outputs": [
        {
          "output_type": "execute_result",
          "data": {
            "text/plain": [
              "array([[ 0.04 ],\n",
              "       [ 0.023],\n",
              "       [-0.074],\n",
              "       [ 0.056],\n",
              "       [ 0.051],\n",
              "       [ 0.02 ],\n",
              "       [ 0.06 ],\n",
              "       [ 0.051],\n",
              "       [ 0.013],\n",
              "       [ 0.023]], dtype=float32)"
            ]
          },
          "metadata": {
            "tags": []
          },
          "execution_count": 66
        }
      ]
    },
    {
      "cell_type": "code",
      "metadata": {
        "id": "RsZOVCtpV8zM"
      },
      "source": [
        "#configure model training procedure using Model.compile()\n",
        "horsepower_model.compile(\n",
        "    optimizer=tf.optimizers.Adam(learning_rate=0.1),\n",
        "    loss='mean_absolute_error'\n",
        ")"
      ],
      "execution_count": 67,
      "outputs": []
    },
    {
      "cell_type": "code",
      "metadata": {
        "colab": {
          "base_uri": "https://localhost:8080/"
        },
        "id": "acSws4_pV83m",
        "outputId": "7a81a40a-2342-4d61-e4ef-7e0112f5f696"
      },
      "source": [
        "%%time\n",
        "history = horsepower_model.fit(\n",
        "    train_features['Horsepower'], train_labels,\n",
        "    epochs=100,\n",
        "    # suppress logging\n",
        "    #verbose=0,\n",
        "    # Calculate validation results on 20% of the training data\n",
        "    validation_split = 0.2)"
      ],
      "execution_count": 68,
      "outputs": [
        {
          "output_type": "stream",
          "text": [
            "Epoch 1/100\n",
            "8/8 [==============================] - 0s 22ms/step - loss: 22.8753 - val_loss: 22.9343\n",
            "Epoch 2/100\n",
            "8/8 [==============================] - 0s 5ms/step - loss: 22.0717 - val_loss: 22.1347\n",
            "Epoch 3/100\n",
            "8/8 [==============================] - 0s 5ms/step - loss: 21.2623 - val_loss: 21.3346\n",
            "Epoch 4/100\n",
            "8/8 [==============================] - 0s 5ms/step - loss: 20.4628 - val_loss: 20.5345\n",
            "Epoch 5/100\n",
            "8/8 [==============================] - 0s 5ms/step - loss: 19.6622 - val_loss: 19.7346\n",
            "Epoch 6/100\n",
            "8/8 [==============================] - 0s 5ms/step - loss: 18.8622 - val_loss: 18.9345\n",
            "Epoch 7/100\n",
            "8/8 [==============================] - 0s 5ms/step - loss: 18.0629 - val_loss: 18.1345\n",
            "Epoch 8/100\n",
            "8/8 [==============================] - 0s 5ms/step - loss: 17.2615 - val_loss: 17.3346\n",
            "Epoch 9/100\n",
            "8/8 [==============================] - 0s 4ms/step - loss: 16.4622 - val_loss: 16.5348\n",
            "Epoch 10/100\n",
            "8/8 [==============================] - 0s 4ms/step - loss: 15.6620 - val_loss: 15.7348\n",
            "Epoch 11/100\n",
            "8/8 [==============================] - 0s 4ms/step - loss: 14.8643 - val_loss: 14.9350\n",
            "Epoch 12/100\n",
            "8/8 [==============================] - 0s 6ms/step - loss: 14.0618 - val_loss: 14.1348\n",
            "Epoch 13/100\n",
            "8/8 [==============================] - 0s 6ms/step - loss: 13.2619 - val_loss: 13.3347\n",
            "Epoch 14/100\n",
            "8/8 [==============================] - 0s 5ms/step - loss: 12.4669 - val_loss: 12.5388\n",
            "Epoch 15/100\n",
            "8/8 [==============================] - 0s 6ms/step - loss: 11.6829 - val_loss: 11.7621\n",
            "Epoch 16/100\n",
            "8/8 [==============================] - 0s 5ms/step - loss: 10.9053 - val_loss: 10.9863\n",
            "Epoch 17/100\n",
            "8/8 [==============================] - 0s 5ms/step - loss: 10.1296 - val_loss: 10.2098\n",
            "Epoch 18/100\n",
            "8/8 [==============================] - 0s 5ms/step - loss: 9.3535 - val_loss: 9.4401\n",
            "Epoch 19/100\n",
            "8/8 [==============================] - 0s 5ms/step - loss: 8.6278 - val_loss: 8.6811\n",
            "Epoch 20/100\n",
            "8/8 [==============================] - 0s 5ms/step - loss: 7.9183 - val_loss: 7.9432\n",
            "Epoch 21/100\n",
            "8/8 [==============================] - 0s 6ms/step - loss: 7.2340 - val_loss: 7.2337\n",
            "Epoch 22/100\n",
            "8/8 [==============================] - 0s 4ms/step - loss: 6.5804 - val_loss: 6.6049\n",
            "Epoch 23/100\n",
            "8/8 [==============================] - 0s 5ms/step - loss: 6.0238 - val_loss: 6.0128\n",
            "Epoch 24/100\n",
            "8/8 [==============================] - 0s 5ms/step - loss: 5.4740 - val_loss: 5.5876\n",
            "Epoch 25/100\n",
            "8/8 [==============================] - 0s 6ms/step - loss: 5.0682 - val_loss: 5.2346\n",
            "Epoch 26/100\n",
            "8/8 [==============================] - 0s 5ms/step - loss: 4.7531 - val_loss: 4.9876\n",
            "Epoch 27/100\n",
            "8/8 [==============================] - 0s 5ms/step - loss: 4.4908 - val_loss: 4.8144\n",
            "Epoch 28/100\n",
            "8/8 [==============================] - 0s 5ms/step - loss: 4.3114 - val_loss: 4.6598\n",
            "Epoch 29/100\n",
            "8/8 [==============================] - 0s 4ms/step - loss: 4.1277 - val_loss: 4.5446\n",
            "Epoch 30/100\n",
            "8/8 [==============================] - 0s 5ms/step - loss: 4.0271 - val_loss: 4.4629\n",
            "Epoch 31/100\n",
            "8/8 [==============================] - 0s 5ms/step - loss: 3.9547 - val_loss: 4.3965\n",
            "Epoch 32/100\n",
            "8/8 [==============================] - 0s 5ms/step - loss: 3.8953 - val_loss: 4.3454\n",
            "Epoch 33/100\n",
            "8/8 [==============================] - 0s 5ms/step - loss: 3.8729 - val_loss: 4.2927\n",
            "Epoch 34/100\n",
            "8/8 [==============================] - 0s 4ms/step - loss: 3.8423 - val_loss: 4.2417\n",
            "Epoch 35/100\n",
            "8/8 [==============================] - 0s 5ms/step - loss: 3.8300 - val_loss: 4.2344\n",
            "Epoch 36/100\n",
            "8/8 [==============================] - 0s 4ms/step - loss: 3.8193 - val_loss: 4.2208\n",
            "Epoch 37/100\n",
            "8/8 [==============================] - 0s 5ms/step - loss: 3.8172 - val_loss: 4.2213\n",
            "Epoch 38/100\n",
            "8/8 [==============================] - 0s 4ms/step - loss: 3.8105 - val_loss: 4.2105\n",
            "Epoch 39/100\n",
            "8/8 [==============================] - 0s 4ms/step - loss: 3.8059 - val_loss: 4.2004\n",
            "Epoch 40/100\n",
            "8/8 [==============================] - 0s 5ms/step - loss: 3.8036 - val_loss: 4.1949\n",
            "Epoch 41/100\n",
            "8/8 [==============================] - 0s 6ms/step - loss: 3.8107 - val_loss: 4.2235\n",
            "Epoch 42/100\n",
            "8/8 [==============================] - 0s 5ms/step - loss: 3.8077 - val_loss: 4.2063\n",
            "Epoch 43/100\n",
            "8/8 [==============================] - 0s 5ms/step - loss: 3.8056 - val_loss: 4.1973\n",
            "Epoch 44/100\n",
            "8/8 [==============================] - 0s 4ms/step - loss: 3.8037 - val_loss: 4.1815\n",
            "Epoch 45/100\n",
            "8/8 [==============================] - 0s 5ms/step - loss: 3.8045 - val_loss: 4.1932\n",
            "Epoch 46/100\n",
            "8/8 [==============================] - 0s 5ms/step - loss: 3.8038 - val_loss: 4.2017\n",
            "Epoch 47/100\n",
            "8/8 [==============================] - 0s 5ms/step - loss: 3.8037 - val_loss: 4.1858\n",
            "Epoch 48/100\n",
            "8/8 [==============================] - 0s 4ms/step - loss: 3.8049 - val_loss: 4.1835\n",
            "Epoch 49/100\n",
            "8/8 [==============================] - 0s 6ms/step - loss: 3.8023 - val_loss: 4.2080\n",
            "Epoch 50/100\n",
            "8/8 [==============================] - 0s 5ms/step - loss: 3.8039 - val_loss: 4.1987\n",
            "Epoch 51/100\n",
            "8/8 [==============================] - 0s 5ms/step - loss: 3.8023 - val_loss: 4.1821\n",
            "Epoch 52/100\n",
            "8/8 [==============================] - 0s 5ms/step - loss: 3.8072 - val_loss: 4.1625\n",
            "Epoch 53/100\n",
            "8/8 [==============================] - 0s 5ms/step - loss: 3.8048 - val_loss: 4.1864\n",
            "Epoch 54/100\n",
            "8/8 [==============================] - 0s 4ms/step - loss: 3.8036 - val_loss: 4.1957\n",
            "Epoch 55/100\n",
            "8/8 [==============================] - 0s 5ms/step - loss: 3.8039 - val_loss: 4.1962\n",
            "Epoch 56/100\n",
            "8/8 [==============================] - 0s 5ms/step - loss: 3.8143 - val_loss: 4.2327\n",
            "Epoch 57/100\n",
            "8/8 [==============================] - 0s 4ms/step - loss: 3.8058 - val_loss: 4.1930\n",
            "Epoch 58/100\n",
            "8/8 [==============================] - 0s 5ms/step - loss: 3.8111 - val_loss: 4.1613\n",
            "Epoch 59/100\n",
            "8/8 [==============================] - 0s 4ms/step - loss: 3.8065 - val_loss: 4.1664\n",
            "Epoch 60/100\n",
            "8/8 [==============================] - 0s 5ms/step - loss: 3.8037 - val_loss: 4.1836\n",
            "Epoch 61/100\n",
            "8/8 [==============================] - 0s 6ms/step - loss: 3.8029 - val_loss: 4.1949\n",
            "Epoch 62/100\n",
            "8/8 [==============================] - 0s 5ms/step - loss: 3.8028 - val_loss: 4.1853\n",
            "Epoch 63/100\n",
            "8/8 [==============================] - 0s 4ms/step - loss: 3.8040 - val_loss: 4.1769\n",
            "Epoch 64/100\n",
            "8/8 [==============================] - 0s 5ms/step - loss: 3.8082 - val_loss: 4.2068\n",
            "Epoch 65/100\n",
            "8/8 [==============================] - 0s 7ms/step - loss: 3.8038 - val_loss: 4.1905\n",
            "Epoch 66/100\n",
            "8/8 [==============================] - 0s 5ms/step - loss: 3.8064 - val_loss: 4.1623\n",
            "Epoch 67/100\n",
            "8/8 [==============================] - 0s 4ms/step - loss: 3.8047 - val_loss: 4.1834\n",
            "Epoch 68/100\n",
            "8/8 [==============================] - 0s 5ms/step - loss: 3.8029 - val_loss: 4.1877\n",
            "Epoch 69/100\n",
            "8/8 [==============================] - 0s 5ms/step - loss: 3.8082 - val_loss: 4.1905\n",
            "Epoch 70/100\n",
            "8/8 [==============================] - 0s 4ms/step - loss: 3.8059 - val_loss: 4.2091\n",
            "Epoch 71/100\n",
            "8/8 [==============================] - 0s 6ms/step - loss: 3.8085 - val_loss: 4.2027\n",
            "Epoch 72/100\n",
            "8/8 [==============================] - 0s 6ms/step - loss: 3.8036 - val_loss: 4.1872\n",
            "Epoch 73/100\n",
            "8/8 [==============================] - 0s 5ms/step - loss: 3.8032 - val_loss: 4.1745\n",
            "Epoch 74/100\n",
            "8/8 [==============================] - 0s 6ms/step - loss: 3.8108 - val_loss: 4.1677\n",
            "Epoch 75/100\n",
            "8/8 [==============================] - 0s 5ms/step - loss: 3.8041 - val_loss: 4.1984\n",
            "Epoch 76/100\n",
            "8/8 [==============================] - 0s 5ms/step - loss: 3.8127 - val_loss: 4.2182\n",
            "Epoch 77/100\n",
            "8/8 [==============================] - 0s 6ms/step - loss: 3.8022 - val_loss: 4.1732\n",
            "Epoch 78/100\n",
            "8/8 [==============================] - 0s 4ms/step - loss: 3.8072 - val_loss: 4.1487\n",
            "Epoch 79/100\n",
            "8/8 [==============================] - 0s 5ms/step - loss: 3.8065 - val_loss: 4.1693\n",
            "Epoch 80/100\n",
            "8/8 [==============================] - 0s 6ms/step - loss: 3.8043 - val_loss: 4.1943\n",
            "Epoch 81/100\n",
            "8/8 [==============================] - 0s 5ms/step - loss: 3.8042 - val_loss: 4.1915\n",
            "Epoch 82/100\n",
            "8/8 [==============================] - 0s 6ms/step - loss: 3.8042 - val_loss: 4.2060\n",
            "Epoch 83/100\n",
            "8/8 [==============================] - 0s 5ms/step - loss: 3.8068 - val_loss: 4.1796\n",
            "Epoch 84/100\n",
            "8/8 [==============================] - 0s 4ms/step - loss: 3.8039 - val_loss: 4.1797\n",
            "Epoch 85/100\n",
            "8/8 [==============================] - 0s 5ms/step - loss: 3.8063 - val_loss: 4.2060\n",
            "Epoch 86/100\n",
            "8/8 [==============================] - 0s 5ms/step - loss: 3.8061 - val_loss: 4.1867\n",
            "Epoch 87/100\n",
            "8/8 [==============================] - 0s 5ms/step - loss: 3.8102 - val_loss: 4.2148\n",
            "Epoch 88/100\n",
            "8/8 [==============================] - 0s 4ms/step - loss: 3.8078 - val_loss: 4.1868\n",
            "Epoch 89/100\n",
            "8/8 [==============================] - 0s 7ms/step - loss: 3.8040 - val_loss: 4.1899\n",
            "Epoch 90/100\n",
            "8/8 [==============================] - 0s 5ms/step - loss: 3.8027 - val_loss: 4.1891\n",
            "Epoch 91/100\n",
            "8/8 [==============================] - 0s 4ms/step - loss: 3.8059 - val_loss: 4.1890\n",
            "Epoch 92/100\n",
            "8/8 [==============================] - 0s 5ms/step - loss: 3.8019 - val_loss: 4.1703\n",
            "Epoch 93/100\n",
            "8/8 [==============================] - 0s 6ms/step - loss: 3.8048 - val_loss: 4.1635\n",
            "Epoch 94/100\n",
            "8/8 [==============================] - 0s 4ms/step - loss: 3.8064 - val_loss: 4.1898\n",
            "Epoch 95/100\n",
            "8/8 [==============================] - 0s 5ms/step - loss: 3.8025 - val_loss: 4.1866\n",
            "Epoch 96/100\n",
            "8/8 [==============================] - 0s 4ms/step - loss: 3.8042 - val_loss: 4.1796\n",
            "Epoch 97/100\n",
            "8/8 [==============================] - 0s 8ms/step - loss: 3.8030 - val_loss: 4.1929\n",
            "Epoch 98/100\n",
            "8/8 [==============================] - 0s 6ms/step - loss: 3.8029 - val_loss: 4.1906\n",
            "Epoch 99/100\n",
            "8/8 [==============================] - 0s 5ms/step - loss: 3.8112 - val_loss: 4.2030\n",
            "Epoch 100/100\n",
            "8/8 [==============================] - 0s 4ms/step - loss: 3.8024 - val_loss: 4.1788\n",
            "CPU times: user 4.21 s, sys: 237 ms, total: 4.45 s\n",
            "Wall time: 5.47 s\n"
          ],
          "name": "stdout"
        }
      ]
    },
    {
      "cell_type": "code",
      "metadata": {
        "colab": {
          "base_uri": "https://localhost:8080/",
          "height": 204
        },
        "id": "GwxvUDL9V85t",
        "outputId": "ec768f2d-d2ee-42ca-e12a-a5988d0dca4d"
      },
      "source": [
        "# visualize the model's training progress using stats in history object\n",
        "hist = pd.DataFrame(history.history)\n",
        "hist['epoch'] = history.epoch\n",
        "hist.tail()"
      ],
      "execution_count": 69,
      "outputs": [
        {
          "output_type": "execute_result",
          "data": {
            "text/html": [
              "<div>\n",
              "<style scoped>\n",
              "    .dataframe tbody tr th:only-of-type {\n",
              "        vertical-align: middle;\n",
              "    }\n",
              "\n",
              "    .dataframe tbody tr th {\n",
              "        vertical-align: top;\n",
              "    }\n",
              "\n",
              "    .dataframe thead th {\n",
              "        text-align: right;\n",
              "    }\n",
              "</style>\n",
              "<table border=\"1\" class=\"dataframe\">\n",
              "  <thead>\n",
              "    <tr style=\"text-align: right;\">\n",
              "      <th></th>\n",
              "      <th>loss</th>\n",
              "      <th>val_loss</th>\n",
              "      <th>epoch</th>\n",
              "    </tr>\n",
              "  </thead>\n",
              "  <tbody>\n",
              "    <tr>\n",
              "      <th>95</th>\n",
              "      <td>3.804187</td>\n",
              "      <td>4.179572</td>\n",
              "      <td>95</td>\n",
              "    </tr>\n",
              "    <tr>\n",
              "      <th>96</th>\n",
              "      <td>3.803041</td>\n",
              "      <td>4.192927</td>\n",
              "      <td>96</td>\n",
              "    </tr>\n",
              "    <tr>\n",
              "      <th>97</th>\n",
              "      <td>3.802884</td>\n",
              "      <td>4.190622</td>\n",
              "      <td>97</td>\n",
              "    </tr>\n",
              "    <tr>\n",
              "      <th>98</th>\n",
              "      <td>3.811203</td>\n",
              "      <td>4.202964</td>\n",
              "      <td>98</td>\n",
              "    </tr>\n",
              "    <tr>\n",
              "      <th>99</th>\n",
              "      <td>3.802369</td>\n",
              "      <td>4.178842</td>\n",
              "      <td>99</td>\n",
              "    </tr>\n",
              "  </tbody>\n",
              "</table>\n",
              "</div>"
            ],
            "text/plain": [
              "        loss  val_loss  epoch\n",
              "95  3.804187  4.179572     95\n",
              "96  3.803041  4.192927     96\n",
              "97  3.802884  4.190622     97\n",
              "98  3.811203  4.202964     98\n",
              "99  3.802369  4.178842     99"
            ]
          },
          "metadata": {
            "tags": []
          },
          "execution_count": 69
        }
      ]
    },
    {
      "cell_type": "code",
      "metadata": {
        "id": "pUMsRbuqZCDI"
      },
      "source": [
        "def plot_loss(history):\n",
        "  plt.plot(history.history['loss'], label='loss')\n",
        "  plt.plot(history.history['val_loss'], label='val_loss')\n",
        "  plt.ylim([0, 10])\n",
        "  plt.xlabel('Epoch')\n",
        "  plt.ylabel('Error [MPG]')\n",
        "  plt.legend()\n",
        "  plt.grid(True)"
      ],
      "execution_count": 70,
      "outputs": []
    },
    {
      "cell_type": "code",
      "metadata": {
        "colab": {
          "base_uri": "https://localhost:8080/",
          "height": 283
        },
        "id": "oQQ5FozgZCFb",
        "outputId": "053fe02b-87f8-4ede-ce30-c92a41766f15"
      },
      "source": [
        "plot_loss(history)"
      ],
      "execution_count": 71,
      "outputs": [
        {
          "output_type": "display_data",
          "data": {
            "image/png": "[encoded data removed]",
            "text/plain": [
              "<Figure size 432x288 with 1 Axes>"
            ]
          },
          "metadata": {
            "tags": [],
            "needs_background": "light"
          }
        }
      ]
    },
    {
      "cell_type": "code",
      "metadata": {
        "id": "p8MwatYdZCH-"
      },
      "source": [
        "test_results = {}\n",
        "test_results['horsepower_model'] = horsepower_model.evaluate(\n",
        "    test_features['Horsepower'],\n",
        "    test_labels, verbose=0\n",
        ")"
      ],
      "execution_count": 73,
      "outputs": []
    },
    {
      "cell_type": "code",
      "metadata": {
        "id": "jVg2CiirZCKy"
      },
      "source": [
        "# look at model's predictions as a function of input\n",
        "x = tf.linspace(0.0, 250, 251)\n",
        "y = horsepower_model.predict(x)"
      ],
      "execution_count": 74,
      "outputs": []
    },
    {
      "cell_type": "code",
      "metadata": {
        "id": "4m7Bxn49ZCM4"
      },
      "source": [
        "def plot_horsepower(x,y):\n",
        "  plt.scatter(train_features['Horsepower'], train_labels, label='Data')\n",
        "  plt.plot(x, y, color='k', label = 'Predictions')\n",
        "  plt.xlabel('Horsepower')\n",
        "  plt.ylabel('MPG')\n",
        "  plt.legend()"
      ],
      "execution_count": 75,
      "outputs": []
    },
    {
      "cell_type": "code",
      "metadata": {
        "colab": {
          "base_uri": "https://localhost:8080/",
          "height": 279
        },
        "id": "tQ7cVyUoZCPQ",
        "outputId": "d92a4645-5324-4572-9c02-f2f7cdda4a3f"
      },
      "source": [
        "plot_horsepower(x,y)"
      ],
      "execution_count": 76,
      "outputs": [
        {
          "output_type": "display_data",
          "data": {
            "image/png": "[encoded data removed]",
            "text/plain": [
              "<Figure size 432x288 with 1 Axes>"
            ]
          },
          "metadata": {
            "tags": [],
            "needs_background": "light"
          }
        }
      ]
    },
    {
      "cell_type": "code",
      "metadata": {
        "id": "QpHRqM_uZCRO"
      },
      "source": [
        "# Multiple inputs (y=mx+b) with \"m\" this time as a matrix and \"b\" as a vector\n",
        "\n",
        "# Use Normalization layer that was adapted to the whole dataset\n",
        "linear_model = tf.keras.Sequential([normalizer, layers.Dense(units=1)])"
      ],
      "execution_count": 77,
      "outputs": []
    },
    {
      "cell_type": "code",
      "metadata": {
        "colab": {
          "base_uri": "https://localhost:8080/"
        },
        "id": "UeSzdZKkbLNX",
        "outputId": "020f20a6-7871-4f5a-b04f-ba54198a0a39"
      },
      "source": [
        "linear_model.predict(train_features[:10])"
      ],
      "execution_count": 78,
      "outputs": [
        {
          "output_type": "execute_result",
          "data": {
            "text/plain": [
              "array([[ 1.194],\n",
              "       [ 0.161],\n",
              "       [-2.473],\n",
              "       [ 0.869],\n",
              "       [ 1.732],\n",
              "       [-1.056],\n",
              "       [ 1.851],\n",
              "       [ 0.334],\n",
              "       [-0.617],\n",
              "       [ 1.866]], dtype=float32)"
            ]
          },
          "metadata": {
            "tags": []
          },
          "execution_count": 78
        }
      ]
    },
    {
      "cell_type": "code",
      "metadata": {
        "colab": {
          "base_uri": "https://localhost:8080/"
        },
        "id": "bJrqwmr4bLPe",
        "outputId": "ac31abd4-8e3b-4bf3-de45-75fad956de31"
      },
      "source": [
        "# we can now see the input shape of the kernel has been altered\n",
        "linear_model.layers[1].kernel"
      ],
      "execution_count": 80,
      "outputs": [
        {
          "output_type": "execute_result",
          "data": {
            "text/plain": [
              "<tf.Variable 'dense_4/kernel:0' shape=(9, 1) dtype=float32, numpy=\n",
              "array([[-0.32 ],\n",
              "       [-0.683],\n",
              "       [ 0.314],\n",
              "       [-0.713],\n",
              "       [-0.089],\n",
              "       [-0.056],\n",
              "       [ 0.623],\n",
              "       [ 0.656],\n",
              "       [ 0.377]], dtype=float32)>"
            ]
          },
          "metadata": {
            "tags": []
          },
          "execution_count": 80
        }
      ]
    },
    {
      "cell_type": "code",
      "metadata": {
        "id": "lVLwFY44bLRn"
      },
      "source": [
        "linear_model.compile(\n",
        "    optimizer=tf.optimizers.Adam(learning_rate=0.1),\n",
        "    loss='mean_absolute_error'\n",
        ")"
      ],
      "execution_count": 82,
      "outputs": []
    },
    {
      "cell_type": "code",
      "metadata": {
        "colab": {
          "base_uri": "https://localhost:8080/"
        },
        "id": "MfcK_Av4bLTg",
        "outputId": "f4a5f8ee-e93d-4eb6-e86c-afce49b3424b"
      },
      "source": [
        "%%time\n",
        "history = linear_model.fit(\n",
        "    train_features, train_labels,\n",
        "    epochs = 100,\n",
        "    #Calculate validation results on 20% of the training data\n",
        "    validation_split = 0.2\n",
        ")"
      ],
      "execution_count": 83,
      "outputs": [
        {
          "output_type": "stream",
          "text": [
            "Epoch 1/100\n",
            "8/8 [==============================] - 0s 23ms/step - loss: 22.9042 - val_loss: 23.0462\n",
            "Epoch 2/100\n",
            "8/8 [==============================] - 0s 4ms/step - loss: 22.0511 - val_loss: 22.3190\n",
            "Epoch 3/100\n",
            "8/8 [==============================] - 0s 4ms/step - loss: 21.2227 - val_loss: 21.5591\n",
            "Epoch 4/100\n",
            "8/8 [==============================] - 0s 5ms/step - loss: 20.4054 - val_loss: 20.8282\n",
            "Epoch 5/100\n",
            "8/8 [==============================] - 0s 4ms/step - loss: 19.6033 - val_loss: 20.1000\n",
            "Epoch 6/100\n",
            "8/8 [==============================] - 0s 5ms/step - loss: 18.8044 - val_loss: 19.4055\n",
            "Epoch 7/100\n",
            "8/8 [==============================] - 0s 5ms/step - loss: 17.9455 - val_loss: 18.6814\n",
            "Epoch 8/100\n",
            "8/8 [==============================] - 0s 4ms/step - loss: 17.1324 - val_loss: 17.9392\n",
            "Epoch 9/100\n",
            "8/8 [==============================] - 0s 5ms/step - loss: 16.3318 - val_loss: 17.2269\n",
            "Epoch 10/100\n",
            "8/8 [==============================] - 0s 5ms/step - loss: 15.4919 - val_loss: 16.5082\n",
            "Epoch 11/100\n",
            "8/8 [==============================] - 0s 4ms/step - loss: 14.6894 - val_loss: 15.8206\n",
            "Epoch 12/100\n",
            "8/8 [==============================] - 0s 5ms/step - loss: 13.8853 - val_loss: 15.0818\n",
            "Epoch 13/100\n",
            "8/8 [==============================] - 0s 5ms/step - loss: 13.0581 - val_loss: 14.3102\n",
            "Epoch 14/100\n",
            "8/8 [==============================] - 0s 5ms/step - loss: 12.2794 - val_loss: 13.6104\n",
            "Epoch 15/100\n",
            "8/8 [==============================] - 0s 5ms/step - loss: 11.4666 - val_loss: 12.8396\n",
            "Epoch 16/100\n",
            "8/8 [==============================] - 0s 5ms/step - loss: 10.6746 - val_loss: 12.1104\n",
            "Epoch 17/100\n",
            "8/8 [==============================] - 0s 4ms/step - loss: 9.8845 - val_loss: 11.4056\n",
            "Epoch 18/100\n",
            "8/8 [==============================] - 0s 4ms/step - loss: 9.0967 - val_loss: 10.7168\n",
            "Epoch 19/100\n",
            "8/8 [==============================] - 0s 4ms/step - loss: 8.3365 - val_loss: 10.0000\n",
            "Epoch 20/100\n",
            "8/8 [==============================] - 0s 5ms/step - loss: 7.5979 - val_loss: 9.1948\n",
            "Epoch 21/100\n",
            "8/8 [==============================] - 0s 6ms/step - loss: 6.9835 - val_loss: 8.4453\n",
            "Epoch 22/100\n",
            "8/8 [==============================] - 0s 6ms/step - loss: 6.3790 - val_loss: 7.8473\n",
            "Epoch 23/100\n",
            "8/8 [==============================] - 0s 5ms/step - loss: 5.8084 - val_loss: 7.1887\n",
            "Epoch 24/100\n",
            "8/8 [==============================] - 0s 5ms/step - loss: 5.3214 - val_loss: 6.5616\n",
            "Epoch 25/100\n",
            "8/8 [==============================] - 0s 5ms/step - loss: 4.8832 - val_loss: 5.8027\n",
            "Epoch 26/100\n",
            "8/8 [==============================] - 0s 6ms/step - loss: 4.3831 - val_loss: 5.2588\n",
            "Epoch 27/100\n",
            "8/8 [==============================] - 0s 5ms/step - loss: 4.0159 - val_loss: 4.7653\n",
            "Epoch 28/100\n",
            "8/8 [==============================] - 0s 4ms/step - loss: 3.5399 - val_loss: 4.0007\n",
            "Epoch 29/100\n",
            "8/8 [==============================] - 0s 6ms/step - loss: 3.2031 - val_loss: 3.5245\n",
            "Epoch 30/100\n",
            "8/8 [==============================] - 0s 5ms/step - loss: 2.9463 - val_loss: 3.2279\n",
            "Epoch 31/100\n",
            "8/8 [==============================] - 0s 5ms/step - loss: 2.7930 - val_loss: 2.8777\n",
            "Epoch 32/100\n",
            "8/8 [==============================] - 0s 5ms/step - loss: 2.6852 - val_loss: 2.8336\n",
            "Epoch 33/100\n",
            "8/8 [==============================] - 0s 5ms/step - loss: 2.6121 - val_loss: 2.7488\n",
            "Epoch 34/100\n",
            "8/8 [==============================] - 0s 5ms/step - loss: 2.5493 - val_loss: 2.6869\n",
            "Epoch 35/100\n",
            "8/8 [==============================] - 0s 4ms/step - loss: 2.5241 - val_loss: 2.6195\n",
            "Epoch 36/100\n",
            "8/8 [==============================] - 0s 4ms/step - loss: 2.5020 - val_loss: 2.5994\n",
            "Epoch 37/100\n",
            "8/8 [==============================] - 0s 4ms/step - loss: 2.4994 - val_loss: 2.5951\n",
            "Epoch 38/100\n",
            "8/8 [==============================] - 0s 5ms/step - loss: 2.5080 - val_loss: 2.5600\n",
            "Epoch 39/100\n",
            "8/8 [==============================] - 0s 6ms/step - loss: 2.4820 - val_loss: 2.5136\n",
            "Epoch 40/100\n",
            "8/8 [==============================] - 0s 5ms/step - loss: 2.5012 - val_loss: 2.5273\n",
            "Epoch 41/100\n",
            "8/8 [==============================] - 0s 5ms/step - loss: 2.4808 - val_loss: 2.4979\n",
            "Epoch 42/100\n",
            "8/8 [==============================] - 0s 4ms/step - loss: 2.4860 - val_loss: 2.5221\n",
            "Epoch 43/100\n",
            "8/8 [==============================] - 0s 6ms/step - loss: 2.4829 - val_loss: 2.4888\n",
            "Epoch 44/100\n",
            "8/8 [==============================] - 0s 5ms/step - loss: 2.4684 - val_loss: 2.5135\n",
            "Epoch 45/100\n",
            "8/8 [==============================] - 0s 5ms/step - loss: 2.5097 - val_loss: 2.4715\n",
            "Epoch 46/100\n",
            "8/8 [==============================] - 0s 6ms/step - loss: 2.4883 - val_loss: 2.5021\n",
            "Epoch 47/100\n",
            "8/8 [==============================] - 0s 5ms/step - loss: 2.4877 - val_loss: 2.4829\n",
            "Epoch 48/100\n",
            "8/8 [==============================] - 0s 5ms/step - loss: 2.5197 - val_loss: 2.5203\n",
            "Epoch 49/100\n",
            "8/8 [==============================] - 0s 5ms/step - loss: 2.5071 - val_loss: 2.5275\n",
            "Epoch 50/100\n",
            "8/8 [==============================] - 0s 5ms/step - loss: 2.5358 - val_loss: 2.5784\n",
            "Epoch 51/100\n",
            "8/8 [==============================] - 0s 5ms/step - loss: 2.5000 - val_loss: 2.4756\n",
            "Epoch 52/100\n",
            "8/8 [==============================] - 0s 5ms/step - loss: 2.5570 - val_loss: 2.5363\n",
            "Epoch 53/100\n",
            "8/8 [==============================] - 0s 6ms/step - loss: 2.4674 - val_loss: 2.4835\n",
            "Epoch 54/100\n",
            "8/8 [==============================] - 0s 4ms/step - loss: 2.4895 - val_loss: 2.4958\n",
            "Epoch 55/100\n",
            "8/8 [==============================] - 0s 4ms/step - loss: 2.4764 - val_loss: 2.5022\n",
            "Epoch 56/100\n",
            "8/8 [==============================] - 0s 4ms/step - loss: 2.4853 - val_loss: 2.4863\n",
            "Epoch 57/100\n",
            "8/8 [==============================] - 0s 4ms/step - loss: 2.4695 - val_loss: 2.4887\n",
            "Epoch 58/100\n",
            "8/8 [==============================] - 0s 7ms/step - loss: 2.4768 - val_loss: 2.4942\n",
            "Epoch 59/100\n",
            "8/8 [==============================] - 0s 5ms/step - loss: 2.4752 - val_loss: 2.4711\n",
            "Epoch 60/100\n",
            "8/8 [==============================] - 0s 5ms/step - loss: 2.4804 - val_loss: 2.4660\n",
            "Epoch 61/100\n",
            "8/8 [==============================] - 0s 5ms/step - loss: 2.5440 - val_loss: 2.4983\n",
            "Epoch 62/100\n",
            "8/8 [==============================] - 0s 5ms/step - loss: 2.4976 - val_loss: 2.4672\n",
            "Epoch 63/100\n",
            "8/8 [==============================] - 0s 4ms/step - loss: 2.4776 - val_loss: 2.5489\n",
            "Epoch 64/100\n",
            "8/8 [==============================] - 0s 4ms/step - loss: 2.4910 - val_loss: 2.4758\n",
            "Epoch 65/100\n",
            "8/8 [==============================] - 0s 4ms/step - loss: 2.4751 - val_loss: 2.4908\n",
            "Epoch 66/100\n",
            "8/8 [==============================] - 0s 5ms/step - loss: 2.4885 - val_loss: 2.4791\n",
            "Epoch 67/100\n",
            "8/8 [==============================] - 0s 5ms/step - loss: 2.4975 - val_loss: 2.4847\n",
            "Epoch 68/100\n",
            "8/8 [==============================] - 0s 6ms/step - loss: 2.5405 - val_loss: 2.5011\n",
            "Epoch 69/100\n",
            "8/8 [==============================] - 0s 6ms/step - loss: 2.5386 - val_loss: 2.4642\n",
            "Epoch 70/100\n",
            "8/8 [==============================] - 0s 5ms/step - loss: 2.5164 - val_loss: 2.4959\n",
            "Epoch 71/100\n",
            "8/8 [==============================] - 0s 4ms/step - loss: 2.4829 - val_loss: 2.4726\n",
            "Epoch 72/100\n",
            "8/8 [==============================] - 0s 5ms/step - loss: 2.4813 - val_loss: 2.4831\n",
            "Epoch 73/100\n",
            "8/8 [==============================] - 0s 4ms/step - loss: 2.4961 - val_loss: 2.5081\n",
            "Epoch 74/100\n",
            "8/8 [==============================] - 0s 5ms/step - loss: 2.4850 - val_loss: 2.4796\n",
            "Epoch 75/100\n",
            "8/8 [==============================] - 0s 5ms/step - loss: 2.4737 - val_loss: 2.4891\n",
            "Epoch 76/100\n",
            "8/8 [==============================] - 0s 5ms/step - loss: 2.4634 - val_loss: 2.4614\n",
            "Epoch 77/100\n",
            "8/8 [==============================] - 0s 6ms/step - loss: 2.4748 - val_loss: 2.4665\n",
            "Epoch 78/100\n",
            "8/8 [==============================] - 0s 5ms/step - loss: 2.4764 - val_loss: 2.4613\n",
            "Epoch 79/100\n",
            "8/8 [==============================] - 0s 5ms/step - loss: 2.4885 - val_loss: 2.4754\n",
            "Epoch 80/100\n",
            "8/8 [==============================] - 0s 5ms/step - loss: 2.4821 - val_loss: 2.4692\n",
            "Epoch 81/100\n",
            "8/8 [==============================] - 0s 6ms/step - loss: 2.4930 - val_loss: 2.4592\n",
            "Epoch 82/100\n",
            "8/8 [==============================] - 0s 6ms/step - loss: 2.5038 - val_loss: 2.4643\n",
            "Epoch 83/100\n",
            "8/8 [==============================] - 0s 5ms/step - loss: 2.5142 - val_loss: 2.4819\n",
            "Epoch 84/100\n",
            "8/8 [==============================] - 0s 4ms/step - loss: 2.5119 - val_loss: 2.4875\n",
            "Epoch 85/100\n",
            "8/8 [==============================] - 0s 5ms/step - loss: 2.4730 - val_loss: 2.5021\n",
            "Epoch 86/100\n",
            "8/8 [==============================] - 0s 4ms/step - loss: 2.4756 - val_loss: 2.4673\n",
            "Epoch 87/100\n",
            "8/8 [==============================] - 0s 4ms/step - loss: 2.5256 - val_loss: 2.4712\n",
            "Epoch 88/100\n",
            "8/8 [==============================] - 0s 5ms/step - loss: 2.4974 - val_loss: 2.4802\n",
            "Epoch 89/100\n",
            "8/8 [==============================] - 0s 5ms/step - loss: 2.5089 - val_loss: 2.4585\n",
            "Epoch 90/100\n",
            "8/8 [==============================] - 0s 5ms/step - loss: 2.4681 - val_loss: 2.4911\n",
            "Epoch 91/100\n",
            "8/8 [==============================] - 0s 5ms/step - loss: 2.4734 - val_loss: 2.4683\n",
            "Epoch 92/100\n",
            "8/8 [==============================] - 0s 6ms/step - loss: 2.4771 - val_loss: 2.4493\n",
            "Epoch 93/100\n",
            "8/8 [==============================] - 0s 4ms/step - loss: 2.4783 - val_loss: 2.4758\n",
            "Epoch 94/100\n",
            "8/8 [==============================] - 0s 6ms/step - loss: 2.4818 - val_loss: 2.5000\n",
            "Epoch 95/100\n",
            "8/8 [==============================] - 0s 5ms/step - loss: 2.4787 - val_loss: 2.4658\n",
            "Epoch 96/100\n",
            "8/8 [==============================] - 0s 4ms/step - loss: 2.4743 - val_loss: 2.5177\n",
            "Epoch 97/100\n",
            "8/8 [==============================] - 0s 4ms/step - loss: 2.4946 - val_loss: 2.4427\n",
            "Epoch 98/100\n",
            "8/8 [==============================] - 0s 4ms/step - loss: 2.4677 - val_loss: 2.4981\n",
            "Epoch 99/100\n",
            "8/8 [==============================] - 0s 6ms/step - loss: 2.5419 - val_loss: 2.4669\n",
            "Epoch 100/100\n",
            "8/8 [==============================] - 0s 5ms/step - loss: 2.5426 - val_loss: 2.4569\n",
            "CPU times: user 4.19 s, sys: 269 ms, total: 4.45 s\n",
            "Wall time: 5.49 s\n"
          ],
          "name": "stdout"
        }
      ]
    },
    {
      "cell_type": "code",
      "metadata": {
        "colab": {
          "base_uri": "https://localhost:8080/",
          "height": 283
        },
        "id": "BYY1w8sXbLVU",
        "outputId": "30e1d4ba-634d-45a1-80e2-f338ffeb304f"
      },
      "source": [
        "plot_loss(history)"
      ],
      "execution_count": 84,
      "outputs": [
        {
          "output_type": "display_data",
          "data": {
            "image/png": "[encoded data removed]",
            "text/plain": [
              "<Figure size 432x288 with 1 Axes>"
            ]
          },
          "metadata": {
            "tags": [],
            "needs_background": "light"
          }
        }
      ]
    },
    {
      "cell_type": "code",
      "metadata": {
        "id": "NOLoJJATbLXF"
      },
      "source": [
        "# collect results on the test set for later\n",
        "test_results['linear_model'] = linear_model.evaluate(\n",
        "    test_features, test_labels, verbose=0\n",
        ")"
      ],
      "execution_count": 85,
      "outputs": []
    },
    {
      "cell_type": "code",
      "metadata": {
        "id": "XlyGPSu7bLa2"
      },
      "source": [
        "# DNN that contains:\n",
        "# Normalization layer\n",
        "# 2 hidden, nonlinear, Dense layers using relu nonlinearity\n",
        "# A linear single-output layer\n",
        "\n",
        "def build_and_compile_model(norm):\n",
        "  model = keras.Sequential([\n",
        "                            norm,\n",
        "                            layers.Dense(64, activation='relu'),\n",
        "                            layers.Dense(64, activation='relu'),\n",
        "                            layers.Dense(1)\n",
        "  ])\n",
        "  model.compile(loss='mean_absolute_error', optimizer=tf.keras.optimizers.Adam(0.001))\n",
        "  return model"
      ],
      "execution_count": 95,
      "outputs": []
    },
    {
      "cell_type": "code",
      "metadata": {
        "id": "Jj-thBYQfZxx"
      },
      "source": [
        "# start with single Horsepower input\n",
        "dnn_horsepower_model = build_and_compile_model(horsepower_normalizer)"
      ],
      "execution_count": 96,
      "outputs": []
    },
    {
      "cell_type": "code",
      "metadata": {
        "colab": {
          "base_uri": "https://localhost:8080/"
        },
        "id": "DsxyW2LOfZ0J",
        "outputId": "3b0c0132-3813-4e85-a551-d07aea436e34"
      },
      "source": [
        "dnn_horsepower_model.summary()"
      ],
      "execution_count": 97,
      "outputs": [
        {
          "output_type": "stream",
          "text": [
            "Model: \"sequential_6\"\n",
            "_________________________________________________________________\n",
            "Layer (type)                 Output Shape              Param #   \n",
            "=================================================================\n",
            "normalization_3 (Normalizati (None, 1)                 3         \n",
            "_________________________________________________________________\n",
            "dense_8 (Dense)              (None, 64)                128       \n",
            "_________________________________________________________________\n",
            "dense_9 (Dense)              (None, 64)                4160      \n",
            "_________________________________________________________________\n",
            "dense_10 (Dense)             (None, 1)                 65        \n",
            "=================================================================\n",
            "Total params: 4,356\n",
            "Trainable params: 4,353\n",
            "Non-trainable params: 3\n",
            "_________________________________________________________________\n"
          ],
          "name": "stdout"
        }
      ]
    },
    {
      "cell_type": "code",
      "metadata": {
        "colab": {
          "base_uri": "https://localhost:8080/"
        },
        "id": "ZqHjPQOGfZ2u",
        "outputId": "427e38d3-7977-4997-b4b4-4f5dfceeb4e9"
      },
      "source": [
        "# Train the model\n",
        "%%time\n",
        "history = dnn_horsepower_model.fit(\n",
        "    train_features['Horsepower'], train_labels,\n",
        "    validation_split=0.2, epochs=100\n",
        ")"
      ],
      "execution_count": 98,
      "outputs": [
        {
          "output_type": "stream",
          "text": [
            "Epoch 1/100\n",
            "8/8 [==============================] - 1s 23ms/step - loss: 23.0861 - val_loss: 23.4559\n",
            "Epoch 2/100\n",
            "8/8 [==============================] - 0s 5ms/step - loss: 22.8467 - val_loss: 23.2020\n",
            "Epoch 3/100\n",
            "8/8 [==============================] - 0s 5ms/step - loss: 22.5932 - val_loss: 22.9059\n",
            "Epoch 4/100\n",
            "8/8 [==============================] - 0s 6ms/step - loss: 22.2834 - val_loss: 22.5397\n",
            "Epoch 5/100\n",
            "8/8 [==============================] - 0s 4ms/step - loss: 21.8959 - val_loss: 22.0876\n",
            "Epoch 6/100\n",
            "8/8 [==============================] - 0s 5ms/step - loss: 21.4231 - val_loss: 21.5037\n",
            "Epoch 7/100\n",
            "8/8 [==============================] - 0s 5ms/step - loss: 20.8050 - val_loss: 20.7594\n",
            "Epoch 8/100\n",
            "8/8 [==============================] - 0s 5ms/step - loss: 20.0075 - val_loss: 19.8112\n",
            "Epoch 9/100\n",
            "8/8 [==============================] - 0s 6ms/step - loss: 19.0060 - val_loss: 18.6668\n",
            "Epoch 10/100\n",
            "8/8 [==============================] - 0s 7ms/step - loss: 17.8411 - val_loss: 17.3448\n",
            "Epoch 11/100\n",
            "8/8 [==============================] - 0s 5ms/step - loss: 16.5730 - val_loss: 15.9625\n",
            "Epoch 12/100\n",
            "8/8 [==============================] - 0s 4ms/step - loss: 15.0763 - val_loss: 14.5456\n",
            "Epoch 13/100\n",
            "8/8 [==============================] - 0s 4ms/step - loss: 13.5080 - val_loss: 12.9818\n",
            "Epoch 14/100\n",
            "8/8 [==============================] - 0s 4ms/step - loss: 11.6369 - val_loss: 11.2001\n",
            "Epoch 15/100\n",
            "8/8 [==============================] - 0s 5ms/step - loss: 9.6838 - val_loss: 9.2162\n",
            "Epoch 16/100\n",
            "8/8 [==============================] - 0s 5ms/step - loss: 7.5163 - val_loss: 7.2025\n",
            "Epoch 17/100\n",
            "8/8 [==============================] - 0s 5ms/step - loss: 5.4251 - val_loss: 5.5605\n",
            "Epoch 18/100\n",
            "8/8 [==============================] - 0s 4ms/step - loss: 4.2840 - val_loss: 5.2561\n",
            "Epoch 19/100\n",
            "8/8 [==============================] - 0s 5ms/step - loss: 4.1011 - val_loss: 5.2107\n",
            "Epoch 20/100\n",
            "8/8 [==============================] - 0s 4ms/step - loss: 4.0296 - val_loss: 5.0113\n",
            "Epoch 21/100\n",
            "8/8 [==============================] - 0s 5ms/step - loss: 3.9290 - val_loss: 4.8067\n",
            "Epoch 22/100\n",
            "8/8 [==============================] - 0s 5ms/step - loss: 3.8872 - val_loss: 4.7351\n",
            "Epoch 23/100\n",
            "8/8 [==============================] - 0s 5ms/step - loss: 3.8308 - val_loss: 4.6830\n",
            "Epoch 24/100\n",
            "8/8 [==============================] - 0s 5ms/step - loss: 3.7831 - val_loss: 4.6633\n",
            "Epoch 25/100\n",
            "8/8 [==============================] - 0s 5ms/step - loss: 3.7429 - val_loss: 4.5912\n",
            "Epoch 26/100\n",
            "8/8 [==============================] - 0s 5ms/step - loss: 3.7082 - val_loss: 4.5482\n",
            "Epoch 27/100\n",
            "8/8 [==============================] - 0s 4ms/step - loss: 3.6878 - val_loss: 4.4894\n",
            "Epoch 28/100\n",
            "8/8 [==============================] - 0s 6ms/step - loss: 3.6447 - val_loss: 4.4302\n",
            "Epoch 29/100\n",
            "8/8 [==============================] - 0s 6ms/step - loss: 3.6221 - val_loss: 4.3847\n",
            "Epoch 30/100\n",
            "8/8 [==============================] - 0s 6ms/step - loss: 3.6043 - val_loss: 4.3566\n",
            "Epoch 31/100\n",
            "8/8 [==============================] - 0s 5ms/step - loss: 3.5804 - val_loss: 4.3165\n",
            "Epoch 32/100\n",
            "8/8 [==============================] - 0s 5ms/step - loss: 3.5637 - val_loss: 4.2843\n",
            "Epoch 33/100\n",
            "8/8 [==============================] - 0s 5ms/step - loss: 3.5452 - val_loss: 4.2518\n",
            "Epoch 34/100\n",
            "8/8 [==============================] - 0s 5ms/step - loss: 3.5391 - val_loss: 4.2087\n",
            "Epoch 35/100\n",
            "8/8 [==============================] - 0s 5ms/step - loss: 3.5181 - val_loss: 4.1809\n",
            "Epoch 36/100\n",
            "8/8 [==============================] - 0s 5ms/step - loss: 3.5043 - val_loss: 4.1653\n",
            "Epoch 37/100\n",
            "8/8 [==============================] - 0s 5ms/step - loss: 3.4903 - val_loss: 4.1563\n",
            "Epoch 38/100\n",
            "8/8 [==============================] - 0s 5ms/step - loss: 3.4763 - val_loss: 4.1233\n",
            "Epoch 39/100\n",
            "8/8 [==============================] - 0s 5ms/step - loss: 3.4677 - val_loss: 4.1036\n",
            "Epoch 40/100\n",
            "8/8 [==============================] - 0s 5ms/step - loss: 3.4543 - val_loss: 4.0835\n",
            "Epoch 41/100\n",
            "8/8 [==============================] - 0s 5ms/step - loss: 3.4415 - val_loss: 4.0739\n",
            "Epoch 42/100\n",
            "8/8 [==============================] - 0s 5ms/step - loss: 3.4266 - val_loss: 4.0490\n",
            "Epoch 43/100\n",
            "8/8 [==============================] - 0s 6ms/step - loss: 3.4276 - val_loss: 4.0223\n",
            "Epoch 44/100\n",
            "8/8 [==============================] - 0s 5ms/step - loss: 3.4109 - val_loss: 4.0142\n",
            "Epoch 45/100\n",
            "8/8 [==============================] - 0s 5ms/step - loss: 3.4025 - val_loss: 4.0019\n",
            "Epoch 46/100\n",
            "8/8 [==============================] - 0s 5ms/step - loss: 3.3910 - val_loss: 3.9801\n",
            "Epoch 47/100\n",
            "8/8 [==============================] - 0s 5ms/step - loss: 3.3845 - val_loss: 3.9669\n",
            "Epoch 48/100\n",
            "8/8 [==============================] - 0s 5ms/step - loss: 3.3719 - val_loss: 3.9404\n",
            "Epoch 49/100\n",
            "8/8 [==============================] - 0s 4ms/step - loss: 3.3619 - val_loss: 3.9337\n",
            "Epoch 50/100\n",
            "8/8 [==============================] - 0s 6ms/step - loss: 3.3559 - val_loss: 3.9154\n",
            "Epoch 51/100\n",
            "8/8 [==============================] - 0s 4ms/step - loss: 3.3481 - val_loss: 3.9005\n",
            "Epoch 52/100\n",
            "8/8 [==============================] - 0s 5ms/step - loss: 3.3412 - val_loss: 3.8840\n",
            "Epoch 53/100\n",
            "8/8 [==============================] - 0s 5ms/step - loss: 3.3340 - val_loss: 3.8734\n",
            "Epoch 54/100\n",
            "8/8 [==============================] - 0s 5ms/step - loss: 3.3304 - val_loss: 3.8601\n",
            "Epoch 55/100\n",
            "8/8 [==============================] - 0s 4ms/step - loss: 3.3247 - val_loss: 3.8520\n",
            "Epoch 56/100\n",
            "8/8 [==============================] - 0s 5ms/step - loss: 3.3226 - val_loss: 3.8404\n",
            "Epoch 57/100\n",
            "8/8 [==============================] - 0s 4ms/step - loss: 3.3351 - val_loss: 3.8336\n",
            "Epoch 58/100\n",
            "8/8 [==============================] - 0s 5ms/step - loss: 3.3082 - val_loss: 3.8272\n",
            "Epoch 59/100\n",
            "8/8 [==============================] - 0s 5ms/step - loss: 3.3076 - val_loss: 3.8172\n",
            "Epoch 60/100\n",
            "8/8 [==============================] - 0s 5ms/step - loss: 3.3008 - val_loss: 3.8070\n",
            "Epoch 61/100\n",
            "8/8 [==============================] - 0s 5ms/step - loss: 3.2981 - val_loss: 3.8068\n",
            "Epoch 62/100\n",
            "8/8 [==============================] - 0s 7ms/step - loss: 3.2887 - val_loss: 3.8121\n",
            "Epoch 63/100\n",
            "8/8 [==============================] - 0s 5ms/step - loss: 3.2959 - val_loss: 3.8018\n",
            "Epoch 64/100\n",
            "8/8 [==============================] - 0s 4ms/step - loss: 3.2939 - val_loss: 3.7873\n",
            "Epoch 65/100\n",
            "8/8 [==============================] - 0s 5ms/step - loss: 3.2842 - val_loss: 3.7957\n",
            "Epoch 66/100\n",
            "8/8 [==============================] - 0s 5ms/step - loss: 3.2863 - val_loss: 3.7865\n",
            "Epoch 67/100\n",
            "8/8 [==============================] - 0s 5ms/step - loss: 3.2840 - val_loss: 3.7912\n",
            "Epoch 68/100\n",
            "8/8 [==============================] - 0s 5ms/step - loss: 3.2813 - val_loss: 3.7943\n",
            "Epoch 69/100\n",
            "8/8 [==============================] - 0s 5ms/step - loss: 3.2842 - val_loss: 3.7962\n",
            "Epoch 70/100\n",
            "8/8 [==============================] - 0s 4ms/step - loss: 3.2793 - val_loss: 3.7855\n",
            "Epoch 71/100\n",
            "8/8 [==============================] - 0s 5ms/step - loss: 3.2856 - val_loss: 3.7911\n",
            "Epoch 72/100\n",
            "8/8 [==============================] - 0s 6ms/step - loss: 3.2813 - val_loss: 3.7977\n",
            "Epoch 73/100\n",
            "8/8 [==============================] - 0s 5ms/step - loss: 3.2795 - val_loss: 3.7878\n",
            "Epoch 74/100\n",
            "8/8 [==============================] - 0s 6ms/step - loss: 3.2774 - val_loss: 3.7742\n",
            "Epoch 75/100\n",
            "8/8 [==============================] - 0s 4ms/step - loss: 3.2893 - val_loss: 3.7780\n",
            "Epoch 76/100\n",
            "8/8 [==============================] - 0s 4ms/step - loss: 3.2869 - val_loss: 3.8169\n",
            "Epoch 77/100\n",
            "8/8 [==============================] - 0s 5ms/step - loss: 3.2815 - val_loss: 3.7854\n",
            "Epoch 78/100\n",
            "8/8 [==============================] - 0s 5ms/step - loss: 3.2827 - val_loss: 3.7656\n",
            "Epoch 79/100\n",
            "8/8 [==============================] - 0s 6ms/step - loss: 3.2768 - val_loss: 3.7747\n",
            "Epoch 80/100\n",
            "8/8 [==============================] - 0s 5ms/step - loss: 3.2756 - val_loss: 3.7907\n",
            "Epoch 81/100\n",
            "8/8 [==============================] - 0s 6ms/step - loss: 3.2751 - val_loss: 3.7803\n",
            "Epoch 82/100\n",
            "8/8 [==============================] - 0s 5ms/step - loss: 3.2712 - val_loss: 3.7900\n",
            "Epoch 83/100\n",
            "8/8 [==============================] - 0s 5ms/step - loss: 3.2731 - val_loss: 3.7834\n",
            "Epoch 84/100\n",
            "8/8 [==============================] - 0s 5ms/step - loss: 3.2698 - val_loss: 3.7865\n",
            "Epoch 85/100\n",
            "8/8 [==============================] - 0s 5ms/step - loss: 3.2741 - val_loss: 3.7820\n",
            "Epoch 86/100\n",
            "8/8 [==============================] - 0s 5ms/step - loss: 3.2677 - val_loss: 3.7811\n",
            "Epoch 87/100\n",
            "8/8 [==============================] - 0s 5ms/step - loss: 3.2673 - val_loss: 3.7976\n",
            "Epoch 88/100\n",
            "8/8 [==============================] - 0s 5ms/step - loss: 3.2708 - val_loss: 3.7881\n",
            "Epoch 89/100\n",
            "8/8 [==============================] - 0s 4ms/step - loss: 3.2791 - val_loss: 3.7591\n",
            "Epoch 90/100\n",
            "8/8 [==============================] - 0s 5ms/step - loss: 3.2707 - val_loss: 3.7694\n",
            "Epoch 91/100\n",
            "8/8 [==============================] - 0s 4ms/step - loss: 3.2680 - val_loss: 3.7915\n",
            "Epoch 92/100\n",
            "8/8 [==============================] - 0s 4ms/step - loss: 3.2677 - val_loss: 3.7878\n",
            "Epoch 93/100\n",
            "8/8 [==============================] - 0s 5ms/step - loss: 3.2661 - val_loss: 3.7760\n",
            "Epoch 94/100\n",
            "8/8 [==============================] - 0s 6ms/step - loss: 3.2657 - val_loss: 3.7896\n",
            "Epoch 95/100\n",
            "8/8 [==============================] - 0s 5ms/step - loss: 3.2614 - val_loss: 3.7751\n",
            "Epoch 96/100\n",
            "8/8 [==============================] - 0s 5ms/step - loss: 3.2634 - val_loss: 3.7756\n",
            "Epoch 97/100\n",
            "8/8 [==============================] - 0s 7ms/step - loss: 3.2715 - val_loss: 3.7859\n",
            "Epoch 98/100\n",
            "8/8 [==============================] - 0s 8ms/step - loss: 3.2612 - val_loss: 3.7744\n",
            "Epoch 99/100\n",
            "8/8 [==============================] - 0s 5ms/step - loss: 3.2658 - val_loss: 3.7710\n",
            "Epoch 100/100\n",
            "8/8 [==============================] - 0s 5ms/step - loss: 3.2606 - val_loss: 3.7709\n",
            "CPU times: user 4.67 s, sys: 276 ms, total: 4.94 s\n",
            "Wall time: 5.54 s\n"
          ],
          "name": "stdout"
        }
      ]
    },
    {
      "cell_type": "code",
      "metadata": {
        "colab": {
          "base_uri": "https://localhost:8080/",
          "height": 283
        },
        "id": "YO2LkiQofZ5B",
        "outputId": "8f042f3a-c4f0-4421-d204-cd4c1c26adcc"
      },
      "source": [
        "plot_loss(history)"
      ],
      "execution_count": 99,
      "outputs": [
        {
          "output_type": "display_data",
          "data": {
            "image/png": "[encoded data removed]",
            "text/plain": [
              "<Figure size 432x288 with 1 Axes>"
            ]
          },
          "metadata": {
            "tags": [],
            "needs_background": "light"
          }
        }
      ]
    },
    {
      "cell_type": "code",
      "metadata": {
        "id": "aKLc1xEGfZ66"
      },
      "source": [
        "# plot predictions as a function of Horsepower\n",
        "# we will be able to see how this model \n",
        "# takes advantage of the nonlinearity provided by the hidden layers\n",
        "x = tf.linspace(0.0, 250, 251)\n",
        "y = dnn_horsepower_model.predict(x)"
      ],
      "execution_count": 100,
      "outputs": []
    },
    {
      "cell_type": "code",
      "metadata": {
        "colab": {
          "base_uri": "https://localhost:8080/",
          "height": 279
        },
        "id": "U6tsfW_4fZ8p",
        "outputId": "03480346-7a82-4e0f-ec05-f6f3b29133d2"
      },
      "source": [
        "plot_horsepower(x, y)"
      ],
      "execution_count": 101,
      "outputs": [
        {
          "output_type": "display_data",
          "data": {
            "image/png": "[encoded data removed]",
            "text/plain": [
              "<Figure size 432x288 with 1 Axes>"
            ]
          },
          "metadata": {
            "tags": [],
            "needs_background": "light"
          }
        }
      ]
    },
    {
      "cell_type": "code",
      "metadata": {
        "id": "XORazrkDfZ-q"
      },
      "source": [
        "test_results['dnn_horsepower_model'] = dnn_horsepower_model.evaluate(\n",
        "    test_features['Horsepower'], test_labels,\n",
        "    verbose=0)"
      ],
      "execution_count": 102,
      "outputs": []
    },
    {
      "cell_type": "code",
      "metadata": {
        "colab": {
          "base_uri": "https://localhost:8080/"
        },
        "id": "H5VB0GVRfaAM",
        "outputId": "685f96b4-39b5-4b3b-cf02-cf86b0f6bbdd"
      },
      "source": [
        "# Full Model\n",
        "dnn_model = build_and_compile_model(normalizer)\n",
        "dnn_model.summary()"
      ],
      "execution_count": 103,
      "outputs": [
        {
          "output_type": "stream",
          "text": [
            "Model: \"sequential_7\"\n",
            "_________________________________________________________________\n",
            "Layer (type)                 Output Shape              Param #   \n",
            "=================================================================\n",
            "normalization (Normalization (None, 9)                 19        \n",
            "_________________________________________________________________\n",
            "dense_11 (Dense)             (None, 64)                640       \n",
            "_________________________________________________________________\n",
            "dense_12 (Dense)             (None, 64)                4160      \n",
            "_________________________________________________________________\n",
            "dense_13 (Dense)             (None, 1)                 65        \n",
            "=================================================================\n",
            "Total params: 4,884\n",
            "Trainable params: 4,865\n",
            "Non-trainable params: 19\n",
            "_________________________________________________________________\n"
          ],
          "name": "stdout"
        }
      ]
    },
    {
      "cell_type": "code",
      "metadata": {
        "colab": {
          "base_uri": "https://localhost:8080/"
        },
        "id": "Yl_AnmBZfaCV",
        "outputId": "6d5a0c52-e2b0-4425-c3d4-e6b23e785912"
      },
      "source": [
        "%%time\n",
        "history = dnn_model.fit(\n",
        "    train_features, train_labels,\n",
        "    validation_split=0.2,\n",
        "    verbose=0, epochs=100)"
      ],
      "execution_count": 104,
      "outputs": [
        {
          "output_type": "stream",
          "text": [
            "CPU times: user 3.45 s, sys: 156 ms, total: 3.61 s\n",
            "Wall time: 5.52 s\n"
          ],
          "name": "stdout"
        }
      ]
    },
    {
      "cell_type": "code",
      "metadata": {
        "colab": {
          "base_uri": "https://localhost:8080/",
          "height": 283
        },
        "id": "KMZF36sNfaD5",
        "outputId": "fe31ed2f-ccce-4e1d-8a67-e76998b3de8c"
      },
      "source": [
        "plot_loss(history)"
      ],
      "execution_count": 105,
      "outputs": [
        {
          "output_type": "display_data",
          "data": {
            "image/png": "[encoded data removed]",
            "text/plain": [
              "<Figure size 432x288 with 1 Axes>"
            ]
          },
          "metadata": {
            "tags": [],
            "needs_background": "light"
          }
        }
      ]
    },
    {
      "cell_type": "code",
      "metadata": {
        "id": "81NDOXwYgkfK"
      },
      "source": [
        "test_results['dnn_model'] = dnn_model.evaluate(test_features, test_labels, verbose=0)\n"
      ],
      "execution_count": 106,
      "outputs": []
    },
    {
      "cell_type": "code",
      "metadata": {
        "colab": {
          "base_uri": "https://localhost:8080/",
          "height": 173
        },
        "id": "0JoW2YSQgkhY",
        "outputId": "11e011ef-427e-46cc-d9c3-b128a536d7e7"
      },
      "source": [
        "# compare the performance of all 4 models\n",
        "pd.DataFrame(test_results, index=['Mean absolute error [MPG]']).T"
      ],
      "execution_count": 107,
      "outputs": [
        {
          "output_type": "execute_result",
          "data": {
            "text/html": [
              "<div>\n",
              "<style scoped>\n",
              "    .dataframe tbody tr th:only-of-type {\n",
              "        vertical-align: middle;\n",
              "    }\n",
              "\n",
              "    .dataframe tbody tr th {\n",
              "        vertical-align: top;\n",
              "    }\n",
              "\n",
              "    .dataframe thead th {\n",
              "        text-align: right;\n",
              "    }\n",
              "</style>\n",
              "<table border=\"1\" class=\"dataframe\">\n",
              "  <thead>\n",
              "    <tr style=\"text-align: right;\">\n",
              "      <th></th>\n",
              "      <th>Mean absolute error [MPG]</th>\n",
              "    </tr>\n",
              "  </thead>\n",
              "  <tbody>\n",
              "    <tr>\n",
              "      <th>horsepower_model</th>\n",
              "      <td>3.642222</td>\n",
              "    </tr>\n",
              "    <tr>\n",
              "      <th>linear_model</th>\n",
              "      <td>2.444023</td>\n",
              "    </tr>\n",
              "    <tr>\n",
              "      <th>dnn_horsepower_model</th>\n",
              "      <td>2.925996</td>\n",
              "    </tr>\n",
              "    <tr>\n",
              "      <th>dnn_model</th>\n",
              "      <td>1.716390</td>\n",
              "    </tr>\n",
              "  </tbody>\n",
              "</table>\n",
              "</div>"
            ],
            "text/plain": [
              "                      Mean absolute error [MPG]\n",
              "horsepower_model                       3.642222\n",
              "linear_model                           2.444023\n",
              "dnn_horsepower_model                   2.925996\n",
              "dnn_model                              1.716390"
            ]
          },
          "metadata": {
            "tags": []
          },
          "execution_count": 107
        }
      ]
    },
    {
      "cell_type": "code",
      "metadata": {
        "colab": {
          "base_uri": "https://localhost:8080/",
          "height": 283
        },
        "id": "W1y6Lo0hgkj-",
        "outputId": "86ba5337-afb9-43f5-ec7c-40766acda52d"
      },
      "source": [
        "test_predictions = dnn_model.predict(test_features).flatten()\n",
        "\n",
        "a = plt.axes(aspect='equal')\n",
        "plt.scatter(test_labels, test_predictions)\n",
        "plt.xlabel('True Values [MPG]')\n",
        "plt.ylabel('Predictions [MPG]')\n",
        "lims = [0, 50]\n",
        "plt.xlim(lims)\n",
        "plt.ylim(lims)\n",
        "_ = plt.plot(lims, lims)"
      ],
      "execution_count": 108,
      "outputs": [
        {
          "output_type": "display_data",
          "data": {
            "image/png": "[encoded data removed]",
            "text/plain": [
              "<Figure size 432x288 with 1 Axes>"
            ]
          },
          "metadata": {
            "tags": [],
            "needs_background": "light"
          }
        }
      ]
    },
    {
      "cell_type": "code",
      "metadata": {
        "colab": {
          "base_uri": "https://localhost:8080/",
          "height": 279
        },
        "id": "4oZez4f-gkmW",
        "outputId": "3c0b8454-700d-4b74-cef8-b5beda3709b3"
      },
      "source": [
        "# look at error distribution\n",
        "error = test_predictions - test_labels\n",
        "plt.hist(error, bins=25)\n",
        "plt.xlabel('Prediction Error [MPG]')\n",
        "_ = plt.ylabel('Count')"
      ],
      "execution_count": 109,
      "outputs": [
        {
          "output_type": "display_data",
          "data": {
            "image/png": "[encoded data removed]",
            "text/plain": [
              "<Figure size 432x288 with 1 Axes>"
            ]
          },
          "metadata": {
            "tags": [],
            "needs_background": "light"
          }
        }
      ]
    },
    {
      "cell_type": "code",
      "metadata": {
        "colab": {
          "base_uri": "https://localhost:8080/"
        },
        "id": "Hx1_2loOgkow",
        "outputId": "0de4ac05-4b28-4f3d-ac9a-d8616ea95020"
      },
      "source": [
        "# save model for later use\n",
        "dnn_model.save('dnn_model')"
      ],
      "execution_count": 110,
      "outputs": [
        {
          "output_type": "stream",
          "text": [
            "INFO:tensorflow:Assets written to: dnn_model/assets\n"
          ],
          "name": "stdout"
        }
      ]
    },
    {
      "cell_type": "code",
      "metadata": {
        "colab": {
          "base_uri": "https://localhost:8080/"
        },
        "id": "pSJYHKfhhC4Z",
        "outputId": "5f382417-c159-4e9b-96b2-b6db9e72d862"
      },
      "source": [
        "# if we reload the saved model we get an identical output\n",
        "reloaded = tf.keras.models.load_model('dnn_model')\n",
        "test_results['reloaded'] = reloaded.evaluate(\n",
        "    test_features, test_labels\n",
        ")"
      ],
      "execution_count": 111,
      "outputs": [
        {
          "output_type": "stream",
          "text": [
            "3/3 [==============================] - 0s 4ms/step - loss: 1.7164\n"
          ],
          "name": "stdout"
        }
      ]
    },
    {
      "cell_type": "code",
      "metadata": {
        "colab": {
          "base_uri": "https://localhost:8080/",
          "height": 204
        },
        "id": "_lpOmkkkhC8l",
        "outputId": "2e6bed35-597e-40de-8b54-b6480e9ffe01"
      },
      "source": [
        "pd.DataFrame(test_results, index=['Mean absolute error [MPG]']).T"
      ],
      "execution_count": 112,
      "outputs": [
        {
          "output_type": "execute_result",
          "data": {
            "text/html": [
              "<div>\n",
              "<style scoped>\n",
              "    .dataframe tbody tr th:only-of-type {\n",
              "        vertical-align: middle;\n",
              "    }\n",
              "\n",
              "    .dataframe tbody tr th {\n",
              "        vertical-align: top;\n",
              "    }\n",
              "\n",
              "    .dataframe thead th {\n",
              "        text-align: right;\n",
              "    }\n",
              "</style>\n",
              "<table border=\"1\" class=\"dataframe\">\n",
              "  <thead>\n",
              "    <tr style=\"text-align: right;\">\n",
              "      <th></th>\n",
              "      <th>Mean absolute error [MPG]</th>\n",
              "    </tr>\n",
              "  </thead>\n",
              "  <tbody>\n",
              "    <tr>\n",
              "      <th>horsepower_model</th>\n",
              "      <td>3.642222</td>\n",
              "    </tr>\n",
              "    <tr>\n",
              "      <th>linear_model</th>\n",
              "      <td>2.444023</td>\n",
              "    </tr>\n",
              "    <tr>\n",
              "      <th>dnn_horsepower_model</th>\n",
              "      <td>2.925996</td>\n",
              "    </tr>\n",
              "    <tr>\n",
              "      <th>dnn_model</th>\n",
              "      <td>1.716390</td>\n",
              "    </tr>\n",
              "    <tr>\n",
              "      <th>reloaded</th>\n",
              "      <td>1.716390</td>\n",
              "    </tr>\n",
              "  </tbody>\n",
              "</table>\n",
              "</div>"
            ],
            "text/plain": [
              "                      Mean absolute error [MPG]\n",
              "horsepower_model                       3.642222\n",
              "linear_model                           2.444023\n",
              "dnn_horsepower_model                   2.925996\n",
              "dnn_model                              1.716390\n",
              "reloaded                               1.716390"
            ]
          },
          "metadata": {
            "tags": []
          },
          "execution_count": 112
        }
      ]
    }
  ]
}